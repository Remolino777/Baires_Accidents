{
 "cells": [
  {
   "cell_type": "code",
   "execution_count": 1,
   "metadata": {},
   "outputs": [],
   "source": [
    "import pandas as pd\n",
    "import matplotlib.pyplot as plt"
   ]
  },
  {
   "cell_type": "code",
   "execution_count": 9,
   "metadata": {},
   "outputs": [],
   "source": [
    "#Read the file\n",
    "df = pd.read_csv(r'D:\\0_Respaldo\\0_Proyectos_2024\\Henry_Labs\\Lab2\\Baires_Accidents\\Data\\comisarias-policia-de-la-ciudad.csv', encoding='Latin-1')"
   ]
  },
  {
   "cell_type": "code",
   "execution_count": 10,
   "metadata": {},
   "outputs": [
    {
     "data": {
      "text/html": [
       "<div>\n",
       "<style scoped>\n",
       "    .dataframe tbody tr th:only-of-type {\n",
       "        vertical-align: middle;\n",
       "    }\n",
       "\n",
       "    .dataframe tbody tr th {\n",
       "        vertical-align: top;\n",
       "    }\n",
       "\n",
       "    .dataframe thead th {\n",
       "        text-align: right;\n",
       "    }\n",
       "</style>\n",
       "<table border=\"1\" class=\"dataframe\">\n",
       "  <thead>\n",
       "    <tr style=\"text-align: right;\">\n",
       "      <th></th>\n",
       "      <th>long</th>\n",
       "      <th>lat</th>\n",
       "      <th>id</th>\n",
       "      <th>nombre</th>\n",
       "      <th>calle</th>\n",
       "      <th>altura</th>\n",
       "      <th>calle2</th>\n",
       "      <th>direccion</th>\n",
       "      <th>telefonos</th>\n",
       "      <th>observaciones</th>\n",
       "      <th>observaciones_2</th>\n",
       "      <th>barrio</th>\n",
       "      <th>comuna</th>\n",
       "      <th>codigo_postal</th>\n",
       "      <th>codigo_postal_argentino</th>\n",
       "    </tr>\n",
       "  </thead>\n",
       "  <tbody>\n",
       "    <tr>\n",
       "      <th>0</th>\n",
       "      <td>-58.373245</td>\n",
       "      <td>-34.601906</td>\n",
       "      <td>1</td>\n",
       "      <td>Comisaria Vecinal 1-D</td>\n",
       "      <td>Lavalle</td>\n",
       "      <td>451</td>\n",
       "      <td>NaN</td>\n",
       "      <td>LAVALLE 451</td>\n",
       "      <td>4322-8033/8221</td>\n",
       "      <td>NaN</td>\n",
       "      <td>NaN</td>\n",
       "      <td>SAN NICOLAS</td>\n",
       "      <td>1</td>\n",
       "      <td>1047.0</td>\n",
       "      <td>C1047AAI</td>\n",
       "    </tr>\n",
       "    <tr>\n",
       "      <th>40</th>\n",
       "      <td>-58.468944</td>\n",
       "      <td>-34.683121</td>\n",
       "      <td>44</td>\n",
       "      <td>Comisaria Comunal 8</td>\n",
       "      <td>Ana Diaz</td>\n",
       "      <td>0</td>\n",
       "      <td>Cafayate</td>\n",
       "      <td>DIAZ ANA Y CAFAYATE</td>\n",
       "      <td>4605-2031/2090</td>\n",
       "      <td>NaN</td>\n",
       "      <td>NaN</td>\n",
       "      <td>VILLA LUGANO</td>\n",
       "      <td>8</td>\n",
       "      <td>NaN</td>\n",
       "      <td>NaN</td>\n",
       "    </tr>\n",
       "    <tr>\n",
       "      <th>39</th>\n",
       "      <td>-58.444068</td>\n",
       "      <td>-34.554822</td>\n",
       "      <td>52</td>\n",
       "      <td>Comisaria Comunal 13</td>\n",
       "      <td>Artilleros</td>\n",
       "      <td>2081</td>\n",
       "      <td>NaN</td>\n",
       "      <td>ARTILLEROS 2081</td>\n",
       "      <td>4784-4047/9940</td>\n",
       "      <td>NaN</td>\n",
       "      <td>NaN</td>\n",
       "      <td>BELGRANO</td>\n",
       "      <td>13</td>\n",
       "      <td>1428.0</td>\n",
       "      <td>C1428AUE</td>\n",
       "    </tr>\n",
       "  </tbody>\n",
       "</table>\n",
       "</div>"
      ],
      "text/plain": [
       "         long        lat  id                 nombre       calle  altura  \\\n",
       "0  -58.373245 -34.601906   1  Comisaria Vecinal 1-D     Lavalle     451   \n",
       "40 -58.468944 -34.683121  44    Comisaria Comunal 8    Ana Diaz       0   \n",
       "39 -58.444068 -34.554822  52   Comisaria Comunal 13  Artilleros    2081   \n",
       "\n",
       "      calle2            direccion       telefonos observaciones  \\\n",
       "0        NaN          LAVALLE 451  4322-8033/8221           NaN   \n",
       "40  Cafayate  DIAZ ANA Y CAFAYATE  4605-2031/2090           NaN   \n",
       "39       NaN      ARTILLEROS 2081  4784-4047/9940           NaN   \n",
       "\n",
       "    observaciones_2        barrio  comuna  codigo_postal  \\\n",
       "0               NaN   SAN NICOLAS       1         1047.0   \n",
       "40              NaN  VILLA LUGANO       8            NaN   \n",
       "39              NaN      BELGRANO      13         1428.0   \n",
       "\n",
       "   codigo_postal_argentino  \n",
       "0                 C1047AAI  \n",
       "40                     NaN  \n",
       "39                C1428AUE  "
      ]
     },
     "execution_count": 10,
     "metadata": {},
     "output_type": "execute_result"
    }
   ],
   "source": [
    "df.sample(3)"
   ]
  },
  {
   "cell_type": "markdown",
   "metadata": {},
   "source": [
    "De estos datos trabajaremos con las columnas 'long' , 'lat', 'nombre' y 'comuna'"
   ]
  },
  {
   "cell_type": "code",
   "execution_count": 11,
   "metadata": {},
   "outputs": [],
   "source": [
    "df1 = df[['lat','long','nombre','comuna']].copy()"
   ]
  },
  {
   "cell_type": "code",
   "execution_count": 12,
   "metadata": {},
   "outputs": [
    {
     "name": "stdout",
     "output_type": "stream",
     "text": [
      "<class 'pandas.core.frame.DataFrame'>\n",
      "RangeIndex: 49 entries, 0 to 48\n",
      "Data columns (total 4 columns):\n",
      " #   Column  Non-Null Count  Dtype  \n",
      "---  ------  --------------  -----  \n",
      " 0   lat     49 non-null     float64\n",
      " 1   long    49 non-null     float64\n",
      " 2   nombre  49 non-null     object \n",
      " 3   comuna  49 non-null     int64  \n",
      "dtypes: float64(2), int64(1), object(1)\n",
      "memory usage: 1.7+ KB\n"
     ]
    }
   ],
   "source": [
    "df1.info()"
   ]
  },
  {
   "cell_type": "code",
   "execution_count": 13,
   "metadata": {},
   "outputs": [
    {
     "data": {
      "text/html": [
       "<div>\n",
       "<style scoped>\n",
       "    .dataframe tbody tr th:only-of-type {\n",
       "        vertical-align: middle;\n",
       "    }\n",
       "\n",
       "    .dataframe tbody tr th {\n",
       "        vertical-align: top;\n",
       "    }\n",
       "\n",
       "    .dataframe thead th {\n",
       "        text-align: right;\n",
       "    }\n",
       "</style>\n",
       "<table border=\"1\" class=\"dataframe\">\n",
       "  <thead>\n",
       "    <tr style=\"text-align: right;\">\n",
       "      <th></th>\n",
       "      <th>lat</th>\n",
       "      <th>long</th>\n",
       "      <th>comuna</th>\n",
       "    </tr>\n",
       "  </thead>\n",
       "  <tbody>\n",
       "    <tr>\n",
       "      <th>count</th>\n",
       "      <td>49.000000</td>\n",
       "      <td>49.000000</td>\n",
       "      <td>49.000000</td>\n",
       "    </tr>\n",
       "    <tr>\n",
       "      <th>mean</th>\n",
       "      <td>-34.612036</td>\n",
       "      <td>-58.435116</td>\n",
       "      <td>7.163265</td>\n",
       "    </tr>\n",
       "    <tr>\n",
       "      <th>std</th>\n",
       "      <td>0.031808</td>\n",
       "      <td>0.045130</td>\n",
       "      <td>4.642857</td>\n",
       "    </tr>\n",
       "    <tr>\n",
       "      <th>min</th>\n",
       "      <td>-34.683121</td>\n",
       "      <td>-58.524039</td>\n",
       "      <td>1.000000</td>\n",
       "    </tr>\n",
       "    <tr>\n",
       "      <th>25%</th>\n",
       "      <td>-34.629536</td>\n",
       "      <td>-58.472991</td>\n",
       "      <td>3.000000</td>\n",
       "    </tr>\n",
       "    <tr>\n",
       "      <th>50%</th>\n",
       "      <td>-34.616114</td>\n",
       "      <td>-58.439501</td>\n",
       "      <td>7.000000</td>\n",
       "    </tr>\n",
       "    <tr>\n",
       "      <th>75%</th>\n",
       "      <td>-34.591137</td>\n",
       "      <td>-58.394789</td>\n",
       "      <td>12.000000</td>\n",
       "    </tr>\n",
       "    <tr>\n",
       "      <th>max</th>\n",
       "      <td>-34.551103</td>\n",
       "      <td>-58.360588</td>\n",
       "      <td>15.000000</td>\n",
       "    </tr>\n",
       "  </tbody>\n",
       "</table>\n",
       "</div>"
      ],
      "text/plain": [
       "             lat       long     comuna\n",
       "count  49.000000  49.000000  49.000000\n",
       "mean  -34.612036 -58.435116   7.163265\n",
       "std     0.031808   0.045130   4.642857\n",
       "min   -34.683121 -58.524039   1.000000\n",
       "25%   -34.629536 -58.472991   3.000000\n",
       "50%   -34.616114 -58.439501   7.000000\n",
       "75%   -34.591137 -58.394789  12.000000\n",
       "max   -34.551103 -58.360588  15.000000"
      ]
     },
     "execution_count": 13,
     "metadata": {},
     "output_type": "execute_result"
    }
   ],
   "source": [
    "df1.describe()"
   ]
  },
  {
   "cell_type": "code",
   "execution_count": 14,
   "metadata": {},
   "outputs": [],
   "source": [
    "#Elimino los duplicados.\n",
    "df1 = df1.drop_duplicates()"
   ]
  },
  {
   "cell_type": "markdown",
   "metadata": {},
   "source": [
    "### Valores discretos"
   ]
  },
  {
   "cell_type": "code",
   "execution_count": 16,
   "metadata": {},
   "outputs": [
    {
     "data": {
      "text/plain": [
       "comuna\n",
       "1     8\n",
       "4     5\n",
       "12    5\n",
       "3     4\n",
       "6     3\n",
       "14    3\n",
       "13    3\n",
       "8     3\n",
       "10    3\n",
       "5     2\n",
       "2     2\n",
       "15    2\n",
       "7     2\n",
       "9     2\n",
       "11    2\n",
       "Name: count, dtype: int64"
      ]
     },
     "execution_count": 16,
     "metadata": {},
     "output_type": "execute_result"
    }
   ],
   "source": [
    "#Reviso si hay valores del fuera del rango de las comunas definidas.\n",
    "df1['comuna'].value_counts()"
   ]
  },
  {
   "cell_type": "code",
   "execution_count": 17,
   "metadata": {},
   "outputs": [
    {
     "data": {
      "text/plain": [
       "0"
      ]
     },
     "execution_count": 17,
     "metadata": {},
     "output_type": "execute_result"
    }
   ],
   "source": [
    "#Busco valores no numericos\n",
    "df1['comuna'].isna().sum()"
   ]
  },
  {
   "cell_type": "markdown",
   "metadata": {},
   "source": [
    "### Valores Continuos\n",
    "*Latitud y Longitud*"
   ]
  },
  {
   "cell_type": "code",
   "execution_count": 18,
   "metadata": {},
   "outputs": [
    {
     "data": {
      "text/plain": [
       "0"
      ]
     },
     "execution_count": 18,
     "metadata": {},
     "output_type": "execute_result"
    }
   ],
   "source": [
    "df1['lat'].isna().sum()"
   ]
  },
  {
   "cell_type": "code",
   "execution_count": 19,
   "metadata": {},
   "outputs": [
    {
     "data": {
      "text/plain": [
       "0"
      ]
     },
     "execution_count": 19,
     "metadata": {},
     "output_type": "execute_result"
    }
   ],
   "source": [
    "df1['long'].isna().sum()"
   ]
  },
  {
   "cell_type": "code",
   "execution_count": 21,
   "metadata": {},
   "outputs": [
    {
     "data": {
      "text/html": [
       "<div>\n",
       "<style scoped>\n",
       "    .dataframe tbody tr th:only-of-type {\n",
       "        vertical-align: middle;\n",
       "    }\n",
       "\n",
       "    .dataframe tbody tr th {\n",
       "        vertical-align: top;\n",
       "    }\n",
       "\n",
       "    .dataframe thead th {\n",
       "        text-align: right;\n",
       "    }\n",
       "</style>\n",
       "<table border=\"1\" class=\"dataframe\">\n",
       "  <thead>\n",
       "    <tr style=\"text-align: right;\">\n",
       "      <th></th>\n",
       "      <th>Latitud</th>\n",
       "      <th>Longitud</th>\n",
       "      <th>nombre</th>\n",
       "      <th>COMUNA</th>\n",
       "    </tr>\n",
       "  </thead>\n",
       "  <tbody>\n",
       "    <tr>\n",
       "      <th>0</th>\n",
       "      <td>-34.601906</td>\n",
       "      <td>-58.373245</td>\n",
       "      <td>Comisaria Vecinal 1-D</td>\n",
       "      <td>1</td>\n",
       "    </tr>\n",
       "    <tr>\n",
       "      <th>1</th>\n",
       "      <td>-34.628641</td>\n",
       "      <td>-58.424926</td>\n",
       "      <td>Comisaria Vecinal 5-B</td>\n",
       "      <td>5</td>\n",
       "    </tr>\n",
       "    <tr>\n",
       "      <th>2</th>\n",
       "      <td>-34.608979</td>\n",
       "      <td>-58.439501</td>\n",
       "      <td>Comisaria Vecinal 6-A</td>\n",
       "      <td>6</td>\n",
       "    </tr>\n",
       "  </tbody>\n",
       "</table>\n",
       "</div>"
      ],
      "text/plain": [
       "     Latitud   Longitud                 nombre  COMUNA\n",
       "0 -34.601906 -58.373245  Comisaria Vecinal 1-D       1\n",
       "1 -34.628641 -58.424926  Comisaria Vecinal 5-B       5\n",
       "2 -34.608979 -58.439501  Comisaria Vecinal 6-A       6"
      ]
     },
     "execution_count": 21,
     "metadata": {},
     "output_type": "execute_result"
    }
   ],
   "source": [
    "#Modificamos los nombres\n",
    "df1 = df1.rename(columns={'lat':'Latitud'})\n",
    "df1 = df1.rename(columns={'long':'Longitud'})\n",
    "df1 = df1.rename(columns={'comuna':'COMUNA'})\n",
    "df1.head(3)"
   ]
  },
  {
   "cell_type": "markdown",
   "metadata": {},
   "source": [
    "### Graficas\n"
   ]
  },
  {
   "cell_type": "code",
   "execution_count": 22,
   "metadata": {},
   "outputs": [
    {
     "data": {
      "image/png": "[encoded data removed]",
      "text/plain": [
       "<Figure size 800x600 with 1 Axes>"
      ]
     },
     "metadata": {},
     "output_type": "display_data"
    }
   ],
   "source": [
    "# Graficamos los puntos de referencia para verificar que se en cuentran dentro de lo esperado del mapa de Baires. \n",
    "# y que todos las cordenadas son numericas\n",
    "plt.figure(figsize=(8, 6))\n",
    "plt.scatter(df1['Latitud'], df1['Longitud'], color='blue', marker='o')\n",
    "plt.xlabel('Latitud')\n",
    "plt.ylabel('Longitud')\n",
    "plt.title('Gráfico de dispersión de las variables Latitud y Longitud')\n",
    "plt.grid(True)\n",
    "plt.show()"
   ]
  },
  {
   "cell_type": "markdown",
   "metadata": {},
   "source": [
    "### Normalizacion"
   ]
  },
  {
   "cell_type": "code",
   "execution_count": 24,
   "metadata": {},
   "outputs": [
    {
     "data": {
      "text/plain": [
       "nombre\n",
       "Comisaria Vecinal 1-D                      1\n",
       "Comisaria Comunal 7                        1\n",
       "Comisaria Vecinal 1-B                      1\n",
       "Comisaria Vecinal 9-B                      1\n",
       "Comisaria Comunal 11                       1\n",
       "Comisaria Comunal 9                        1\n",
       "Comisaria Comunal 10                       1\n",
       "Comisaria Vecinal 10-B                     1\n",
       "Comisaria Vecinal 11-B                     1\n",
       "Comisaria Vecinal 11-B (edificio anexo)    1\n",
       "Comisaria Vecinal 8-A                      1\n",
       "Comisaria Vecinal 12-A                     1\n",
       "Comisaria Comunal 3                        1\n",
       "Comisaria Vecinal 7-C                      1\n",
       "Comisaria Comunal 13                       1\n",
       "Comisaria Comunal 8                        1\n",
       "Comisaria Comunal 14                       1\n",
       "Comisaria Vecinal 10-C                     1\n",
       "Comisaria Vecinal 3-A                      1\n",
       "Comisaria Vecinal 3-A (edificio anexo)     1\n",
       "Comisaria Comunal 5                        1\n",
       "Comisaria Comunal 12                       1\n",
       "Comisaria Comunal 15                       1\n",
       "Comisaria Vecinal 12-B                     1\n",
       "Comisaria Vecinal 12-C                     1\n",
       "Comisaria Vecinal 5-B                      1\n",
       "Comisaria Vecinal 8-B                      1\n",
       "Comisaria Vecinal 6-A                      1\n",
       "Comisaria Vecinal 7-B                      1\n",
       "Comisaria Comunal 6                        1\n",
       "Comisaria Comunal 1                        1\n",
       "Comisaria Vecinal 1-C (edificio anexo)     1\n",
       "Comisaria Comunal 2                        1\n",
       "Comisaria Vecinal 1-C                      1\n",
       "Comisaria Vecinal 2-B                      1\n",
       "Comisaria Vecinal 1-B (edificio anexo)     1\n",
       "Comisaria Vecinal 3-B                      1\n",
       "Comisaria Vecinal 14-A                     1\n",
       "Comisaria Vecinal 1-E                      1\n",
       "Comisaria Vecinal 4-C                      1\n",
       "Comisaria Vecinal 4-D (edificio anexo)     1\n",
       "Comisaria Vecinal 15-B                     1\n",
       "Comisaria Vecinal 1-A                      1\n",
       "Comisaria Vecinal 4-D                      1\n",
       "Comisaria Vecinal 14-B                     1\n",
       "Comisaria Vecinal 13-C                     1\n",
       "Comisaria Vecinal 4-B                      1\n",
       "Comisaria Vecinal 13-B                     1\n",
       "Comisaria Comunal 4                        1\n",
       "Name: count, dtype: int64"
      ]
     },
     "execution_count": 24,
     "metadata": {},
     "output_type": "execute_result"
    }
   ],
   "source": [
    "df1['nombre'].value_counts()"
   ]
  },
  {
   "cell_type": "markdown",
   "metadata": {},
   "source": [
    "### Exporto el archivo en parquet"
   ]
  },
  {
   "cell_type": "code",
   "execution_count": 25,
   "metadata": {},
   "outputs": [],
   "source": [
    "df1.to_parquet(r\"D:\\0_Respaldo\\0_Proyectos_2024\\Henry_Labs\\Lab2\\Baires_Accidents\\Data\\Parquet\\comisarias.parquet\", index=False)"
   ]
  }
 ],
 "metadata": {
  "kernelspec": {
   "display_name": ".venv",
   "language": "python",
   "name": "python3"
  },
  "language_info": {
   "codemirror_mode": {
    "name": "ipython",
    "version": 3
   },
   "file_extension": ".py",
   "mimetype": "text/x-python",
   "name": "python",
   "nbconvert_exporter": "python",
   "pygments_lexer": "ipython3",
   "version": "3.11.9"
  }
 },
 "nbformat": 4,
 "nbformat_minor": 2
}
