{
 "cells": [
  {
   "cell_type": "code",
   "execution_count": 1,
   "metadata": {},
   "outputs": [],
   "source": [
    "import pandas as pd\n",
    "import geopandas as gpd\n",
    "import streamlit as st \n",
    "import matplotlib.pyplot as plt\n",
    "import folium\n",
    "from streamlit_folium import st_folium, folium_static\n",
    "from folium.plugins import MarkerCluster"
   ]
  },
  {
   "cell_type": "code",
   "execution_count": 2,
   "metadata": {},
   "outputs": [],
   "source": [
    "data_1 = r\"D:\\0_Respaldo\\0_Proyectos_2024\\Henry_Labs\\Lab2\\Baires_Accidents\\Data\\ETL\\siniestros_por_comuna.parquet\"  ### Siniestros por comuna\n",
    "data_2 =  r\"D:\\0_Respaldo\\0_Proyectos_2024\\Henry_Labs\\Lab2\\Baires_Accidents\\Data\\ETL\\siniestros.parquet\"  ### Siniestros por tipo\n",
    "data_3 = r\"D:\\0_Respaldo\\0_Proyectos_2024\\Henry_Labs\\Lab2\\Baires_Accidents\\Data\\comunas.geojson\"  ### Geodata\n"
   ]
  },
  {
   "cell_type": "code",
   "execution_count": 3,
   "metadata": {},
   "outputs": [],
   "source": [
    "df1 = pd.read_parquet(data_1)"
   ]
  },
  {
   "cell_type": "code",
   "execution_count": 4,
   "metadata": {},
   "outputs": [],
   "source": [
    "df3 = gpd.read_file(data_3)"
   ]
  },
  {
   "cell_type": "code",
   "execution_count": 5,
   "metadata": {},
   "outputs": [
    {
     "data": {
      "text/html": [
       "<div>\n",
       "<style scoped>\n",
       "    .dataframe tbody tr th:only-of-type {\n",
       "        vertical-align: middle;\n",
       "    }\n",
       "\n",
       "    .dataframe tbody tr th {\n",
       "        vertical-align: top;\n",
       "    }\n",
       "\n",
       "    .dataframe thead th {\n",
       "        text-align: right;\n",
       "    }\n",
       "</style>\n",
       "<table border=\"1\" class=\"dataframe\">\n",
       "  <thead>\n",
       "    <tr style=\"text-align: right;\">\n",
       "      <th></th>\n",
       "      <th>ID</th>\n",
       "      <th>OBJETO</th>\n",
       "      <th>COMUNAS</th>\n",
       "      <th>BARRIOS</th>\n",
       "      <th>PERIMETRO</th>\n",
       "      <th>AREA</th>\n",
       "      <th>geometry</th>\n",
       "    </tr>\n",
       "  </thead>\n",
       "  <tbody>\n",
       "    <tr>\n",
       "      <th>0</th>\n",
       "      <td>1</td>\n",
       "      <td>LIMITE COMUNAL</td>\n",
       "      <td>2.0</td>\n",
       "      <td>RECOLETA</td>\n",
       "      <td>21452.838648</td>\n",
       "      <td>6.317265e+06</td>\n",
       "      <td>MULTIPOLYGON (((-58.38000 -34.57002, -58.38002...</td>\n",
       "    </tr>\n",
       "    <tr>\n",
       "      <th>1</th>\n",
       "      <td>3</td>\n",
       "      <td>LIMITE COMUNAL</td>\n",
       "      <td>6.0</td>\n",
       "      <td>CABALLITO</td>\n",
       "      <td>10990.964471</td>\n",
       "      <td>6.851029e+06</td>\n",
       "      <td>MULTIPOLYGON (((-58.43061 -34.60705, -58.43056...</td>\n",
       "    </tr>\n",
       "    <tr>\n",
       "      <th>2</th>\n",
       "      <td>6</td>\n",
       "      <td>LIMITE COMUNAL</td>\n",
       "      <td>10.0</td>\n",
       "      <td>FLORESTA - MONTE CASTRO - VELEZ SARSFIELD - VE...</td>\n",
       "      <td>18332.037457</td>\n",
       "      <td>1.265656e+07</td>\n",
       "      <td>MULTIPOLYGON (((-58.48834 -34.62016, -58.48820...</td>\n",
       "    </tr>\n",
       "  </tbody>\n",
       "</table>\n",
       "</div>"
      ],
      "text/plain": [
       "   ID          OBJETO  COMUNAS  \\\n",
       "0   1  LIMITE COMUNAL      2.0   \n",
       "1   3  LIMITE COMUNAL      6.0   \n",
       "2   6  LIMITE COMUNAL     10.0   \n",
       "\n",
       "                                             BARRIOS     PERIMETRO  \\\n",
       "0                                           RECOLETA  21452.838648   \n",
       "1                                          CABALLITO  10990.964471   \n",
       "2  FLORESTA - MONTE CASTRO - VELEZ SARSFIELD - VE...  18332.037457   \n",
       "\n",
       "           AREA                                           geometry  \n",
       "0  6.317265e+06  MULTIPOLYGON (((-58.38000 -34.57002, -58.38002...  \n",
       "1  6.851029e+06  MULTIPOLYGON (((-58.43061 -34.60705, -58.43056...  \n",
       "2  1.265656e+07  MULTIPOLYGON (((-58.48834 -34.62016, -58.48820...  "
      ]
     },
     "execution_count": 5,
     "metadata": {},
     "output_type": "execute_result"
    }
   ],
   "source": [
    "df3.head(3)"
   ]
  },
  {
   "cell_type": "code",
   "execution_count": 6,
   "metadata": {},
   "outputs": [],
   "source": [
    "min_lon, max_lon = -58.23, -58.63\n",
    "min_lat, max_lat = -34.75, -34.50"
   ]
  },
  {
   "cell_type": "code",
   "execution_count": 7,
   "metadata": {},
   "outputs": [],
   "source": [
    "m = folium.Map(location=[-34.61777, -58.43210], \n",
    "            tiles='Esri_WorldGrayCanvas', \n",
    "            zoom_control=False, zoom_start=12, min_zoom=12,\n",
    "            max_bounds=True, # Creation of map's limits.\n",
    "            min_lat = min_lat,\n",
    "            max_lat=max_lat,\n",
    "            min_lon=min_lon,\n",
    "            max_lon=max_lon                  \n",
    "            )\n",
    "\n",
    "marker_cluster = MarkerCluster().add_to(m)"
   ]
  },
  {
   "cell_type": "code",
   "execution_count": 8,
   "metadata": {},
   "outputs": [
    {
     "name": "stderr",
     "output_type": "stream",
     "text": [
      "2024-04-21 01:32:16.787 \n",
      "  \u001b[33m\u001b[1mWarning:\u001b[0m to view this Streamlit app on a browser, run it with the following\n",
      "  command:\n",
      "\n",
      "    streamlit run d:\\0_Respaldo\\0_Proyectos_2024\\Henry_Labs\\Lab2\\Baires_Accidents\\.venv\\Lib\\site-packages\\ipykernel_launcher.py [ARGUMENTS]\n"
     ]
    }
   ],
   "source": [
    "st_data = st_folium(m, width=700, height=650)"
   ]
  },
  {
   "cell_type": "code",
   "execution_count": 6,
   "metadata": {},
   "outputs": [
    {
     "data": {
      "text/html": [
       "<div>\n",
       "<style scoped>\n",
       "    .dataframe tbody tr th:only-of-type {\n",
       "        vertical-align: middle;\n",
       "    }\n",
       "\n",
       "    .dataframe tbody tr th {\n",
       "        vertical-align: top;\n",
       "    }\n",
       "\n",
       "    .dataframe thead th {\n",
       "        text-align: right;\n",
       "    }\n",
       "</style>\n",
       "<table border=\"1\" class=\"dataframe\">\n",
       "  <thead>\n",
       "    <tr style=\"text-align: right;\">\n",
       "      <th></th>\n",
       "      <th>COMUNA</th>\n",
       "      <th>Poblacion 2021</th>\n",
       "      <th>Poblacion 2020</th>\n",
       "      <th>Total victimas 2020</th>\n",
       "      <th>Total victimas 2021</th>\n",
       "    </tr>\n",
       "  </thead>\n",
       "  <tbody>\n",
       "    <tr>\n",
       "      <th>0</th>\n",
       "      <td>1</td>\n",
       "      <td>257235</td>\n",
       "      <td>256405</td>\n",
       "      <td>10.0</td>\n",
       "      <td>9.0</td>\n",
       "    </tr>\n",
       "    <tr>\n",
       "      <th>1</th>\n",
       "      <td>2</td>\n",
       "      <td>149371</td>\n",
       "      <td>149430</td>\n",
       "      <td>5.0</td>\n",
       "      <td>4.0</td>\n",
       "    </tr>\n",
       "    <tr>\n",
       "      <th>2</th>\n",
       "      <td>3</td>\n",
       "      <td>193425</td>\n",
       "      <td>193276</td>\n",
       "      <td>10.0</td>\n",
       "      <td>8.0</td>\n",
       "    </tr>\n",
       "  </tbody>\n",
       "</table>\n",
       "</div>"
      ],
      "text/plain": [
       "   COMUNA  Poblacion 2021  Poblacion 2020  Total victimas 2020  \\\n",
       "0       1          257235          256405                 10.0   \n",
       "1       2          149371          149430                  5.0   \n",
       "2       3          193425          193276                 10.0   \n",
       "\n",
       "   Total victimas 2021  \n",
       "0                  9.0  \n",
       "1                  4.0  \n",
       "2                  8.0  "
      ]
     },
     "execution_count": 6,
     "metadata": {},
     "output_type": "execute_result"
    }
   ],
   "source": [
    "df1.head(3)"
   ]
  },
  {
   "cell_type": "code",
   "execution_count": 9,
   "metadata": {},
   "outputs": [
    {
     "name": "stdout",
     "output_type": "stream",
     "text": [
      "96.0\n"
     ]
    }
   ],
   "source": [
    "### Calculo kpi total de siniestros Buenos aires\n",
    " # total Accidentes mortales 2021 = am21\n",
    " # total Accidentes mortales 2020 = am20\n",
    "am21 = df1['Total victimas 2021'].sum()\n",
    "am20 = df1['Total victimas 2020'].sum()\n",
    "print(am21)"
   ]
  },
  {
   "cell_type": "code",
   "execution_count": 10,
   "metadata": {},
   "outputs": [
    {
     "name": "stdout",
     "output_type": "stream",
     "text": [
      "21.518987341772153\n"
     ]
    }
   ],
   "source": [
    "kpi_am21 = (am21-am20)/am20*100\n",
    "print(kpi_am21)"
   ]
  },
  {
   "cell_type": "code",
   "execution_count": null,
   "metadata": {},
   "outputs": [],
   "source": [
    "plt.figure(figsize=(10, 6))\n"
   ]
  },
  {
   "cell_type": "code",
   "execution_count": 12,
   "metadata": {},
   "outputs": [],
   "source": [
    "indice = 'A'\n",
    "valor_actual = 100\n",
    "cambio = -20  # Cambio con respecto al período anterior"
   ]
  },
  {
   "cell_type": "markdown",
   "metadata": {},
   "source": [
    "### Muertes por cada 100,000 habitantes"
   ]
  },
  {
   "cell_type": "markdown",
   "metadata": {},
   "source": [
    "muertes por cada 100000 habitantes = ((total muertes)/(poblacion ciudad))*100000"
   ]
  },
  {
   "cell_type": "code",
   "execution_count": 16,
   "metadata": {},
   "outputs": [],
   "source": [
    "#m2021 = muertes por cada 100000 habitantes.\n",
    "m2021 = ((df1['Total victimas 2021'].sum())/(df1['Poblacion 2021'].iloc[0]))*100000"
   ]
  },
  {
   "cell_type": "code",
   "execution_count": 14,
   "metadata": {},
   "outputs": [],
   "source": [
    "m2020 = ((df1['Total victimas 2020'].sum())/(df1['Poblacion 2020'].iloc[0]))*100000"
   ]
  },
  {
   "cell_type": "code",
   "execution_count": 17,
   "metadata": {},
   "outputs": [],
   "source": [
    "# Calculo de kpi en relacion al anio anterior\n",
    "m100 = m2021 - m2020"
   ]
  },
  {
   "cell_type": "code",
   "execution_count": 18,
   "metadata": {},
   "outputs": [],
   "source": [
    "m100 = round(m100, 0)"
   ]
  },
  {
   "cell_type": "code",
   "execution_count": 19,
   "metadata": {},
   "outputs": [
    {
     "name": "stdout",
     "output_type": "stream",
     "text": [
      "7.0\n"
     ]
    }
   ],
   "source": [
    "print(m100)"
   ]
  }
 ],
 "metadata": {
  "kernelspec": {
   "display_name": ".venv",
   "language": "python",
   "name": "python3"
  },
  "language_info": {
   "codemirror_mode": {
    "name": "ipython",
    "version": 3
   },
   "file_extension": ".py",
   "mimetype": "text/x-python",
   "name": "python",
   "nbconvert_exporter": "python",
   "pygments_lexer": "ipython3",
   "version": "3.11.9"
  }
 },
 "nbformat": 4,
 "nbformat_minor": 2
}
