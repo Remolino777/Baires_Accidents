{
 "cells": [
  {
   "cell_type": "code",
   "execution_count": 1,
   "metadata": {},
   "outputs": [],
   "source": [
    "import pandas as pd\n",
    "import geopandas as gpd\n",
    "import streamlit as st \n",
    "import plotly.express as px\n",
    "import folium\n",
    "from streamlit_folium import st_folium, folium_static\n",
    "from folium.plugins import MarkerCluster"
   ]
  },
  {
   "cell_type": "code",
   "execution_count": 4,
   "metadata": {},
   "outputs": [],
   "source": [
    "data_1 = r\"D:\\0_Respaldo\\0_Proyectos_2024\\Henry_Labs\\Lab2\\Baires_Accidents\\Data\\ETL\\siniestros_por_comuna.parquet\"  ### Siniestros por comuna\n",
    "data_2 =  r\"D:\\0_Respaldo\\0_Proyectos_2024\\Henry_Labs\\Lab2\\Baires_Accidents\\Data\\ETL\\siniestros.parquet\"  ### Siniestros por tipo\n",
    "data_3 = r\"D:\\0_Respaldo\\0_Proyectos_2024\\Henry_Labs\\Lab2\\Baires_Accidents\\Data\\comunas.geojson\"  ### Geodata\n"
   ]
  },
  {
   "cell_type": "code",
   "execution_count": 4,
   "metadata": {},
   "outputs": [],
   "source": [
    "data_4 = r\"D:\\0_Respaldo\\0_Proyectos_2024\\Henry_Labs\\Lab2\\Baires_Accidents\\Data\\Parquet\\comisarias.parquet\""
   ]
  },
  {
   "cell_type": "code",
   "execution_count": 5,
   "metadata": {},
   "outputs": [],
   "source": [
    "df_com = pd.read_parquet(data_4)"
   ]
  },
  {
   "cell_type": "code",
   "execution_count": 6,
   "metadata": {},
   "outputs": [
    {
     "data": {
      "text/html": [
       "<div>\n",
       "<style scoped>\n",
       "    .dataframe tbody tr th:only-of-type {\n",
       "        vertical-align: middle;\n",
       "    }\n",
       "\n",
       "    .dataframe tbody tr th {\n",
       "        vertical-align: top;\n",
       "    }\n",
       "\n",
       "    .dataframe thead th {\n",
       "        text-align: right;\n",
       "    }\n",
       "</style>\n",
       "<table border=\"1\" class=\"dataframe\">\n",
       "  <thead>\n",
       "    <tr style=\"text-align: right;\">\n",
       "      <th></th>\n",
       "      <th>Latitud</th>\n",
       "      <th>Longitud</th>\n",
       "      <th>nombre</th>\n",
       "      <th>COMUNA</th>\n",
       "    </tr>\n",
       "  </thead>\n",
       "  <tbody>\n",
       "    <tr>\n",
       "      <th>0</th>\n",
       "      <td>-34.601906</td>\n",
       "      <td>-58.373245</td>\n",
       "      <td>Comisaria Vecinal 1-D</td>\n",
       "      <td>1</td>\n",
       "    </tr>\n",
       "    <tr>\n",
       "      <th>1</th>\n",
       "      <td>-34.628641</td>\n",
       "      <td>-58.424926</td>\n",
       "      <td>Comisaria Vecinal 5-B</td>\n",
       "      <td>5</td>\n",
       "    </tr>\n",
       "    <tr>\n",
       "      <th>2</th>\n",
       "      <td>-34.608979</td>\n",
       "      <td>-58.439501</td>\n",
       "      <td>Comisaria Vecinal 6-A</td>\n",
       "      <td>6</td>\n",
       "    </tr>\n",
       "    <tr>\n",
       "      <th>3</th>\n",
       "      <td>-34.626780</td>\n",
       "      <td>-58.448087</td>\n",
       "      <td>Comisaria Vecinal 7-B</td>\n",
       "      <td>6</td>\n",
       "    </tr>\n",
       "    <tr>\n",
       "      <th>4</th>\n",
       "      <td>-34.620382</td>\n",
       "      <td>-58.453221</td>\n",
       "      <td>Comisaria Comunal 6</td>\n",
       "      <td>6</td>\n",
       "    </tr>\n",
       "  </tbody>\n",
       "</table>\n",
       "</div>"
      ],
      "text/plain": [
       "     Latitud   Longitud                 nombre  COMUNA\n",
       "0 -34.601906 -58.373245  Comisaria Vecinal 1-D       1\n",
       "1 -34.628641 -58.424926  Comisaria Vecinal 5-B       5\n",
       "2 -34.608979 -58.439501  Comisaria Vecinal 6-A       6\n",
       "3 -34.626780 -58.448087  Comisaria Vecinal 7-B       6\n",
       "4 -34.620382 -58.453221    Comisaria Comunal 6       6"
      ]
     },
     "execution_count": 6,
     "metadata": {},
     "output_type": "execute_result"
    }
   ],
   "source": [
    "df_com.head(5)"
   ]
  },
  {
   "cell_type": "code",
   "execution_count": 5,
   "metadata": {},
   "outputs": [],
   "source": [
    "df1 = pd.read_parquet(data_1)"
   ]
  },
  {
   "cell_type": "code",
   "execution_count": 11,
   "metadata": {},
   "outputs": [],
   "source": [
    "df2 = pd.read_parquet(data_2)"
   ]
  },
  {
   "cell_type": "code",
   "execution_count": null,
   "metadata": {},
   "outputs": [],
   "source": [
    "df3 = gpd.read_file(data_3)"
   ]
  },
  {
   "cell_type": "code",
   "execution_count": null,
   "metadata": {},
   "outputs": [],
   "source": [
    "df3.head(3)"
   ]
  },
  {
   "cell_type": "code",
   "execution_count": null,
   "metadata": {},
   "outputs": [],
   "source": [
    "min_lon, max_lon = -58.23, -58.63\n",
    "min_lat, max_lat = -34.75, -34.50"
   ]
  },
  {
   "cell_type": "code",
   "execution_count": null,
   "metadata": {},
   "outputs": [],
   "source": [
    "m = folium.Map(location=[-34.61777, -58.43210], \n",
    "            tiles='Esri_WorldGrayCanvas', \n",
    "            zoom_control=False, zoom_start=12, min_zoom=12,\n",
    "            max_bounds=True, # Creation of map's limits.\n",
    "            min_lat = min_lat,\n",
    "            max_lat=max_lat,\n",
    "            min_lon=min_lon,\n",
    "            max_lon=max_lon                  \n",
    "            )\n",
    "\n",
    "marker_cluster = MarkerCluster().add_to(m)"
   ]
  },
  {
   "cell_type": "code",
   "execution_count": null,
   "metadata": {},
   "outputs": [],
   "source": [
    "st_data = st_folium(m, width=700, height=650)"
   ]
  },
  {
   "cell_type": "code",
   "execution_count": null,
   "metadata": {},
   "outputs": [],
   "source": [
    "df1.head(3)"
   ]
  },
  {
   "cell_type": "code",
   "execution_count": null,
   "metadata": {},
   "outputs": [],
   "source": [
    "### Calculo kpi total de siniestros Buenos aires\n",
    " # total Accidentes mortales 2021 = am21\n",
    " # total Accidentes mortales 2020 = am20\n",
    "am21 = df1['Total victimas 2021'].sum()\n",
    "am20 = df1['Total victimas 2020'].sum()\n",
    "print(am21)"
   ]
  },
  {
   "cell_type": "code",
   "execution_count": null,
   "metadata": {},
   "outputs": [],
   "source": [
    "kpi_am21 = (am21-am20)/am20*100\n",
    "print(kpi_am21)"
   ]
  },
  {
   "cell_type": "markdown",
   "metadata": {},
   "source": [
    "### Muertes por cada 100,000 habitantes"
   ]
  },
  {
   "cell_type": "markdown",
   "metadata": {},
   "source": [
    "muertes por cada 100000 habitantes = ((total muertes)/(poblacion ciudad))*100000"
   ]
  },
  {
   "cell_type": "code",
   "execution_count": 9,
   "metadata": {},
   "outputs": [
    {
     "data": {
      "text/html": [
       "<div>\n",
       "<style scoped>\n",
       "    .dataframe tbody tr th:only-of-type {\n",
       "        vertical-align: middle;\n",
       "    }\n",
       "\n",
       "    .dataframe tbody tr th {\n",
       "        vertical-align: top;\n",
       "    }\n",
       "\n",
       "    .dataframe thead th {\n",
       "        text-align: right;\n",
       "    }\n",
       "</style>\n",
       "<table border=\"1\" class=\"dataframe\">\n",
       "  <thead>\n",
       "    <tr style=\"text-align: right;\">\n",
       "      <th></th>\n",
       "      <th>COMUNA</th>\n",
       "      <th>Poblacion 2021</th>\n",
       "      <th>Poblacion 2020</th>\n",
       "      <th>Total victimas 2020</th>\n",
       "      <th>Total victimas 2021</th>\n",
       "    </tr>\n",
       "  </thead>\n",
       "  <tbody>\n",
       "    <tr>\n",
       "      <th>0</th>\n",
       "      <td>1</td>\n",
       "      <td>257235</td>\n",
       "      <td>256405</td>\n",
       "      <td>10.0</td>\n",
       "      <td>9.0</td>\n",
       "    </tr>\n",
       "    <tr>\n",
       "      <th>1</th>\n",
       "      <td>2</td>\n",
       "      <td>149371</td>\n",
       "      <td>149430</td>\n",
       "      <td>5.0</td>\n",
       "      <td>4.0</td>\n",
       "    </tr>\n",
       "    <tr>\n",
       "      <th>2</th>\n",
       "      <td>3</td>\n",
       "      <td>193425</td>\n",
       "      <td>193276</td>\n",
       "      <td>10.0</td>\n",
       "      <td>8.0</td>\n",
       "    </tr>\n",
       "  </tbody>\n",
       "</table>\n",
       "</div>"
      ],
      "text/plain": [
       "   COMUNA  Poblacion 2021  Poblacion 2020  Total victimas 2020  \\\n",
       "0       1          257235          256405                 10.0   \n",
       "1       2          149371          149430                  5.0   \n",
       "2       3          193425          193276                 10.0   \n",
       "\n",
       "   Total victimas 2021  \n",
       "0                  9.0  \n",
       "1                  4.0  \n",
       "2                  8.0  "
      ]
     },
     "execution_count": 9,
     "metadata": {},
     "output_type": "execute_result"
    }
   ],
   "source": [
    "df1.head(3)"
   ]
  },
  {
   "cell_type": "code",
   "execution_count": 13,
   "metadata": {},
   "outputs": [
    {
     "data": {
      "text/html": [
       "<div>\n",
       "<style scoped>\n",
       "    .dataframe tbody tr th:only-of-type {\n",
       "        vertical-align: middle;\n",
       "    }\n",
       "\n",
       "    .dataframe tbody tr th {\n",
       "        vertical-align: top;\n",
       "    }\n",
       "\n",
       "    .dataframe thead th {\n",
       "        text-align: right;\n",
       "    }\n",
       "</style>\n",
       "<table border=\"1\" class=\"dataframe\">\n",
       "  <thead>\n",
       "    <tr style=\"text-align: right;\">\n",
       "      <th></th>\n",
       "      <th>ID</th>\n",
       "      <th>N_VICTIMAS</th>\n",
       "      <th>AAAA</th>\n",
       "      <th>COMUNA</th>\n",
       "      <th>Longitud</th>\n",
       "      <th>Latitud</th>\n",
       "      <th>VICTIMA</th>\n",
       "    </tr>\n",
       "    <tr>\n",
       "      <th>index</th>\n",
       "      <th></th>\n",
       "      <th></th>\n",
       "      <th></th>\n",
       "      <th></th>\n",
       "      <th></th>\n",
       "      <th></th>\n",
       "      <th></th>\n",
       "    </tr>\n",
       "  </thead>\n",
       "  <tbody>\n",
       "    <tr>\n",
       "      <th>512</th>\n",
       "      <td>2020-0001</td>\n",
       "      <td>1.0</td>\n",
       "      <td>2020</td>\n",
       "      <td>15</td>\n",
       "      <td>-58.439104</td>\n",
       "      <td>-34.592134</td>\n",
       "      <td>PEATON</td>\n",
       "    </tr>\n",
       "    <tr>\n",
       "      <th>513</th>\n",
       "      <td>2020-0002</td>\n",
       "      <td>1.0</td>\n",
       "      <td>2020</td>\n",
       "      <td>7</td>\n",
       "      <td>-58.450194</td>\n",
       "      <td>-34.646464</td>\n",
       "      <td>MOTO</td>\n",
       "    </tr>\n",
       "    <tr>\n",
       "      <th>514</th>\n",
       "      <td>2020-0003</td>\n",
       "      <td>1.0</td>\n",
       "      <td>2020</td>\n",
       "      <td>3</td>\n",
       "      <td>-58.393376</td>\n",
       "      <td>-34.609276</td>\n",
       "      <td>PEATON</td>\n",
       "    </tr>\n",
       "    <tr>\n",
       "      <th>515</th>\n",
       "      <td>2020-0004</td>\n",
       "      <td>1.0</td>\n",
       "      <td>2020</td>\n",
       "      <td>1</td>\n",
       "      <td>-58.390556</td>\n",
       "      <td>-34.609193</td>\n",
       "      <td>PEATON</td>\n",
       "    </tr>\n",
       "    <tr>\n",
       "      <th>516</th>\n",
       "      <td>2020-0005</td>\n",
       "      <td>1.0</td>\n",
       "      <td>2020</td>\n",
       "      <td>3</td>\n",
       "      <td>-58.410370</td>\n",
       "      <td>-34.624770</td>\n",
       "      <td>MOTO</td>\n",
       "    </tr>\n",
       "    <tr>\n",
       "      <th>...</th>\n",
       "      <td>...</td>\n",
       "      <td>...</td>\n",
       "      <td>...</td>\n",
       "      <td>...</td>\n",
       "      <td>...</td>\n",
       "      <td>...</td>\n",
       "      <td>...</td>\n",
       "    </tr>\n",
       "    <tr>\n",
       "      <th>679</th>\n",
       "      <td>2021-0093</td>\n",
       "      <td>1.0</td>\n",
       "      <td>2021</td>\n",
       "      <td>7</td>\n",
       "      <td>-58.433538</td>\n",
       "      <td>-34.645616</td>\n",
       "      <td>MOTO</td>\n",
       "    </tr>\n",
       "    <tr>\n",
       "      <th>680</th>\n",
       "      <td>2021-0094</td>\n",
       "      <td>1.0</td>\n",
       "      <td>2021</td>\n",
       "      <td>9</td>\n",
       "      <td>-58.467398</td>\n",
       "      <td>-34.651178</td>\n",
       "      <td>MOTO</td>\n",
       "    </tr>\n",
       "    <tr>\n",
       "      <th>681</th>\n",
       "      <td>2021-0095</td>\n",
       "      <td>1.0</td>\n",
       "      <td>2021</td>\n",
       "      <td>11</td>\n",
       "      <td>-58.472934</td>\n",
       "      <td>-34.619847</td>\n",
       "      <td>MOTO</td>\n",
       "    </tr>\n",
       "    <tr>\n",
       "      <th>682</th>\n",
       "      <td>2021-0096</td>\n",
       "      <td>1.0</td>\n",
       "      <td>2021</td>\n",
       "      <td>9</td>\n",
       "      <td>-58.470668</td>\n",
       "      <td>-34.650217</td>\n",
       "      <td>AUTO</td>\n",
       "    </tr>\n",
       "    <tr>\n",
       "      <th>683</th>\n",
       "      <td>2021-0097</td>\n",
       "      <td>1.0</td>\n",
       "      <td>2021</td>\n",
       "      <td>1</td>\n",
       "      <td>-58.379762</td>\n",
       "      <td>-34.586796</td>\n",
       "      <td>BICICLETA</td>\n",
       "    </tr>\n",
       "  </tbody>\n",
       "</table>\n",
       "<p>172 rows × 7 columns</p>\n",
       "</div>"
      ],
      "text/plain": [
       "              ID  N_VICTIMAS  AAAA  COMUNA   Longitud    Latitud    VICTIMA\n",
       "index                                                                      \n",
       "512    2020-0001         1.0  2020      15 -58.439104 -34.592134     PEATON\n",
       "513    2020-0002         1.0  2020       7 -58.450194 -34.646464       MOTO\n",
       "514    2020-0003         1.0  2020       3 -58.393376 -34.609276     PEATON\n",
       "515    2020-0004         1.0  2020       1 -58.390556 -34.609193     PEATON\n",
       "516    2020-0005         1.0  2020       3 -58.410370 -34.624770       MOTO\n",
       "...          ...         ...   ...     ...        ...        ...        ...\n",
       "679    2021-0093         1.0  2021       7 -58.433538 -34.645616       MOTO\n",
       "680    2021-0094         1.0  2021       9 -58.467398 -34.651178       MOTO\n",
       "681    2021-0095         1.0  2021      11 -58.472934 -34.619847       MOTO\n",
       "682    2021-0096         1.0  2021       9 -58.470668 -34.650217       AUTO\n",
       "683    2021-0097         1.0  2021       1 -58.379762 -34.586796  BICICLETA\n",
       "\n",
       "[172 rows x 7 columns]"
      ]
     },
     "execution_count": 13,
     "metadata": {},
     "output_type": "execute_result"
    }
   ],
   "source": [
    "df2"
   ]
  },
  {
   "cell_type": "code",
   "execution_count": 6,
   "metadata": {},
   "outputs": [],
   "source": [
    "#m2021 = muertes por cada 100000 habitantes.\n",
    "m2021 = ((df1['Total victimas 2021'].sum())/(df1['Poblacion 2021'].iloc[0]))*100000"
   ]
  },
  {
   "cell_type": "code",
   "execution_count": 7,
   "metadata": {},
   "outputs": [],
   "source": [
    "m2020 = ((df1['Total victimas 2020'].sum())/(df1['Poblacion 2020'].iloc[0]))*100000"
   ]
  },
  {
   "cell_type": "code",
   "execution_count": 8,
   "metadata": {},
   "outputs": [],
   "source": [
    "# Calculo de kpi en relacion al anio anterior\n",
    "m100 = m2021 - m2020"
   ]
  },
  {
   "cell_type": "code",
   "execution_count": null,
   "metadata": {},
   "outputs": [],
   "source": [
    "m100 = round(m100, 0)"
   ]
  },
  {
   "cell_type": "code",
   "execution_count": null,
   "metadata": {},
   "outputs": [],
   "source": [
    "print(m100)"
   ]
  },
  {
   "cell_type": "code",
   "execution_count": null,
   "metadata": {},
   "outputs": [],
   "source": [
    "df2"
   ]
  },
  {
   "cell_type": "markdown",
   "metadata": {},
   "source": [
    "### Muertes por tipo de victima"
   ]
  },
  {
   "cell_type": "code",
   "execution_count": null,
   "metadata": {},
   "outputs": [],
   "source": [
    "df_vic= df2[['AAAA','COMUNA','VICTIMA','N_VICTIMAS']]"
   ]
  },
  {
   "cell_type": "code",
   "execution_count": null,
   "metadata": {},
   "outputs": [],
   "source": [
    "df_vic = df_vic[df_vic['AAAA'] == 2021]"
   ]
  },
  {
   "cell_type": "code",
   "execution_count": null,
   "metadata": {},
   "outputs": [],
   "source": [
    "df_vic = df_vic.drop('AAAA', axis=1)"
   ]
  },
  {
   "cell_type": "code",
   "execution_count": null,
   "metadata": {},
   "outputs": [],
   "source": [
    "df_vic.head(3)"
   ]
  },
  {
   "cell_type": "code",
   "execution_count": null,
   "metadata": {},
   "outputs": [],
   "source": [
    "df_vic = df_vic.groupby(['COMUNA','VICTIMA'])['N_VICTIMAS'].sum().reset_index()"
   ]
  },
  {
   "cell_type": "code",
   "execution_count": null,
   "metadata": {},
   "outputs": [],
   "source": [
    "df_vic.head(5)"
   ]
  },
  {
   "cell_type": "code",
   "execution_count": null,
   "metadata": {},
   "outputs": [],
   "source": [
    "df_comunas = df_vic[df_vic['COMUNA'] == 1]"
   ]
  },
  {
   "cell_type": "code",
   "execution_count": null,
   "metadata": {},
   "outputs": [],
   "source": [
    "df_grouped = df_comunas.groupby('VICTIMA')['N_VICTIMAS'].sum().reset_index()"
   ]
  },
  {
   "cell_type": "code",
   "execution_count": null,
   "metadata": {},
   "outputs": [],
   "source": [
    "#data_comuna = px.data.df_vic().query(\"COMUNA == 1\")\n",
    "data = df_grouped\n",
    "fig = px.bar(data, x='VICTIMA', y='N_VICTIMAS', color='VICTIMA')\n",
    "\n",
    "fig.update_layout(showlegend=False)\n",
    "fig.show()"
   ]
  },
  {
   "cell_type": "code",
   "execution_count": null,
   "metadata": {},
   "outputs": [],
   "source": []
  }
 ],
 "metadata": {
  "kernelspec": {
   "display_name": ".venv",
   "language": "python",
   "name": "python3"
  },
  "language_info": {
   "codemirror_mode": {
    "name": "ipython",
    "version": 3
   },
   "file_extension": ".py",
   "mimetype": "text/x-python",
   "name": "python",
   "nbconvert_exporter": "python",
   "pygments_lexer": "ipython3",
   "version": "3.11.9"
  }
 },
 "nbformat": 4,
 "nbformat_minor": 2
}
